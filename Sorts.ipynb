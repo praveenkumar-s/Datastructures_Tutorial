{
  "nbformat": 4,
  "nbformat_minor": 0,
  "metadata": {
    "colab": {
      "name": "Sorts.ipynb",
      "version": "0.3.2",
      "provenance": [],
      "include_colab_link": true
    },
    "kernelspec": {
      "name": "python2",
      "display_name": "Python 2"
    }
  },
  "cells": [
    {
      "cell_type": "markdown",
      "metadata": {
        "id": "view-in-github",
        "colab_type": "text"
      },
      "source": [
        "[View in Colaboratory](https://colab.research.google.com/github/praveenkumar-s/Datastructures_Tutorial/blob/master/Sorts.ipynb)"
      ]
    },
    {
      "metadata": {
        "id": "7Pu9A5vMW89U",
        "colab_type": "text"
      },
      "cell_type": "markdown",
      "source": [
        "**Bubble Sort: **\n",
        "\n",
        "\n",
        "*   Pick the first element\n",
        "*   Compare it with the second element\n",
        "*   Find if the first element is greater than the second element. \n",
        "*   If greater, swap the element\n",
        "*   Do this recursive Operation (loop 2), under another while loop (loop 1 )until there are no swaps happening\n",
        "\n",
        "Code is as follows:\n",
        "\n"
      ]
    },
    {
      "metadata": {
        "id": "k9tMjJE6etUI",
        "colab_type": "code",
        "colab": {}
      },
      "cell_type": "code",
      "source": [
        "#@Bubble Sort\n",
        "def bubble_sort(arr):\n",
        "    swaped= True\n",
        "    while swaped: # loop 1\n",
        "        swaped= False\n",
        "        print \" Looping n times\"\n",
        "        for i in range(0, len(arr)): # loop 2\n",
        "\n",
        "            if(i+1<len(arr)):\n",
        "                print \"comparing {0} and {1}\".format(arr[i], arr[i+1])\n",
        "                if(arr[i]>arr[i+1]):\n",
        "                    print \"swapping.. {0} and {1}\".format(arr[i], arr[i+1])\n",
        "                    arr[i+1], arr[i]= arr[i], arr[i+1]\n",
        "                    swaped=True\n",
        "    return arr\n",
        "  \n",
        "arr=[1,4,2,3,1,3,2,9,8,66,12]\n",
        "print bubble_sort(arr)\n",
        "      "
      ],
      "execution_count": 0,
      "outputs": []
    }
  ]
}