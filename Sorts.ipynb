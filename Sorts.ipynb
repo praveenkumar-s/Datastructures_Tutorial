{
  "nbformat": 4,
  "nbformat_minor": 0,
  "metadata": {
    "colab": {
      "name": "Sorts.ipynb",
      "version": "0.3.2",
      "provenance": [],
      "include_colab_link": true
    },
    "kernelspec": {
      "name": "python2",
      "display_name": "Python 2"
    }
  },
  "cells": [
    {
      "cell_type": "markdown",
      "metadata": {
        "id": "view-in-github",
        "colab_type": "text"
      },
      "source": [
        "[View in Colaboratory](https://colab.research.google.com/github/praveenkumar-s/Datastructures_Tutorial/blob/master/Sorts.ipynb)"
      ]
    },
    {
      "metadata": {
        "id": "7Pu9A5vMW89U",
        "colab_type": "text"
      },
      "cell_type": "markdown",
      "source": [
        "**Bubble Sort: **\n",
        "\n",
        "\n",
        "*   Pick the first element\n",
        "*   Compare it with the second element\n",
        "*   Find if the first element is greater than the second element. \n",
        "*   If greater, swap the element\n",
        "*   Do this recursive Operation (loop 2), under another while loop (loop 1 )until there are no swaps happening\n",
        "\n",
        "Code is as follows:\n",
        "\n"
      ]
    },
    {
      "metadata": {
        "id": "k9tMjJE6etUI",
        "colab_type": "code",
        "colab": {
          "base_uri": "https://localhost:8080/",
          "height": 969
        },
        "outputId": "ad3d576e-3bff-481e-cdd8-b83e0d1af246"
      },
      "cell_type": "code",
      "source": [
        "#@Bubble Sort\n",
        "def bubble_sort(arr):\n",
        "    swaped= True\n",
        "    while swaped: # loop 1\n",
        "        swaped= False\n",
        "        print \" Looping n times\"\n",
        "        for i in range(0, len(arr)): # loop 2\n",
        "\n",
        "            if(i+1<len(arr)):\n",
        "                print \"comparing {0} and {1}\".format(arr[i], arr[i+1])\n",
        "                if(arr[i]>arr[i+1]):\n",
        "                    print \"swapping.. {0} and {1}\".format(arr[i], arr[i+1])\n",
        "                    arr[i+1], arr[i]= arr[i], arr[i+1]\n",
        "                    swaped=True\n",
        "    return arr\n",
        "  \n",
        "arr=[1,4,2,3,1,3,2,9,8,66,12]\n",
        "print bubble_sort(arr)\n",
        "      "
      ],
      "execution_count": 0,
      "outputs": [
        {
          "output_type": "stream",
          "text": [
            " Looping n times\n",
            "comparing 1 and 4\n",
            "comparing 4 and 2\n",
            "swapping.. 4 and 2\n",
            "comparing 4 and 3\n",
            "swapping.. 4 and 3\n",
            "comparing 4 and 1\n",
            "swapping.. 4 and 1\n",
            "comparing 4 and 3\n",
            "swapping.. 4 and 3\n",
            "comparing 4 and 2\n",
            "swapping.. 4 and 2\n",
            "comparing 4 and 9\n",
            "comparing 9 and 8\n",
            "swapping.. 9 and 8\n",
            "comparing 9 and 66\n",
            "comparing 66 and 12\n",
            "swapping.. 66 and 12\n",
            " Looping n times\n",
            "comparing 1 and 2\n",
            "comparing 2 and 3\n",
            "comparing 3 and 1\n",
            "swapping.. 3 and 1\n",
            "comparing 3 and 3\n",
            "comparing 3 and 2\n",
            "swapping.. 3 and 2\n",
            "comparing 3 and 4\n",
            "comparing 4 and 8\n",
            "comparing 8 and 9\n",
            "comparing 9 and 12\n",
            "comparing 12 and 66\n",
            " Looping n times\n",
            "comparing 1 and 2\n",
            "comparing 2 and 1\n",
            "swapping.. 2 and 1\n",
            "comparing 2 and 3\n",
            "comparing 3 and 2\n",
            "swapping.. 3 and 2\n",
            "comparing 3 and 3\n",
            "comparing 3 and 4\n",
            "comparing 4 and 8\n",
            "comparing 8 and 9\n",
            "comparing 9 and 12\n",
            "comparing 12 and 66\n",
            " Looping n times\n",
            "comparing 1 and 1\n",
            "comparing 1 and 2\n",
            "comparing 2 and 2\n",
            "comparing 2 and 3\n",
            "comparing 3 and 3\n",
            "comparing 3 and 4\n",
            "comparing 4 and 8\n",
            "comparing 8 and 9\n",
            "comparing 9 and 12\n",
            "comparing 12 and 66\n",
            "[1, 1, 2, 2, 3, 3, 4, 8, 9, 12, 66]\n"
          ],
          "name": "stdout"
        }
      ]
    }
  ]
}